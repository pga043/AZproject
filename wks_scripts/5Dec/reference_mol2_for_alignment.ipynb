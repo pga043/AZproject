{
 "cells": [
  {
   "cell_type": "code",
   "execution_count": 1,
   "id": "13f88689",
   "metadata": {},
   "outputs": [],
   "source": [
    "import rdkit\n",
    "from rdkit import Chem\n",
    "from rdkit.Chem import AllChem\n",
    "from rdkit.Chem import Recap,BRICS\n",
    "from rdkit import DataStructs\n",
    "from rdkit import RDLogger\n",
    "from rdkit.Chem import rdMolAlign\n",
    "\n",
    "p = AllChem.ETKDGv2()\n",
    "p.verbose = False"
   ]
  },
  {
   "cell_type": "code",
   "execution_count": 11,
   "id": "251c6006",
   "metadata": {},
   "outputs": [],
   "source": [
    "## generate and align 3D structures of the edges with good lomap scores\n",
    "\n",
    "##***************************************\n",
    "## open a reference sturcture upon which others will be aligned\n",
    "## preserving original coordinates\n",
    "ref1 = Chem.SDMolSupplier('mol_2a.sdf', removeHs=False)\n",
    "for ref in ref1:\n",
    "    #ref1_smi = Chem.MolToSmiles(ref)\n",
    "    #ref1_mol = Chem.MolFromSmiles(ref1_smi)\n",
    "    #ref1_molh = Chem.AddHs(ref1_mol)\n",
    "    ref1_molh = ref\n",
    "\n",
    "#AllChem.EmbedMultipleConfs(ref1_molh)\n",
    "\n",
    "## get MMFF parameters for the reference molecule\n",
    "mmff_ref_param = AllChem.MMFFGetMoleculeProperties(ref1_molh)\n",
    "ref_mol2 = ref1_molh\n",
    "##*************************************"
   ]
  },
  {
   "cell_type": "code",
   "execution_count": 12,
   "id": "ca8d2958",
   "metadata": {},
   "outputs": [],
   "source": [
    "with Chem.SDWriter('test.sdf') as writer:\n",
    "    writer.write(ref_mol2)"
   ]
  },
  {
   "cell_type": "code",
   "execution_count": null,
   "id": "97d00ff1",
   "metadata": {},
   "outputs": [],
   "source": []
  }
 ],
 "metadata": {
  "kernelspec": {
   "display_name": "Python 3 (ipykernel)",
   "language": "python",
   "name": "python3"
  },
  "language_info": {
   "codemirror_mode": {
    "name": "ipython",
    "version": 3
   },
   "file_extension": ".py",
   "mimetype": "text/x-python",
   "name": "python",
   "nbconvert_exporter": "python",
   "pygments_lexer": "ipython3",
   "version": "3.11.6"
  }
 },
 "nbformat": 4,
 "nbformat_minor": 5
}
