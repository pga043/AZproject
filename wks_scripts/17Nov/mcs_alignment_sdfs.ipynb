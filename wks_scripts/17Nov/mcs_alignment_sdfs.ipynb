{
 "cells": [
  {
   "cell_type": "code",
   "execution_count": 2,
   "id": "3e4b84be",
   "metadata": {},
   "outputs": [],
   "source": [
    "import rdkit\n",
    "from rdkit import Chem\n",
    "from rdkit.Chem import AllChem\n",
    "from rdkit.Chem import rdMolAlign\n",
    "import numpy as np\n",
    "p = AllChem.ETKDGv2()\n",
    "p.verbose = False"
   ]
  },
  {
   "cell_type": "code",
   "execution_count": 3,
   "id": "928b9ec3",
   "metadata": {},
   "outputs": [],
   "source": [
    "mol1 = Chem.SDMolSupplier('junk_9_11/1-tmp/parent_1.sdf', removeHs=False)\n",
    "mol2 =  Chem.SDMolSupplier('junk_9_11/1-tmp/junk_1_2.sdf', removeHs=False)\n",
    "\n",
    "sdfs = [mol1, mol2]\n",
    "molecules = []\n",
    "\n",
    "for sdf in sdfs:\n",
    "    smi = [Chem.MolToSmiles(x) for x in sdf]\n",
    "    mol = [Chem.MolFromSmiles(x) for x in smi]\n",
    "    molecules.append(Chem.AddHs(mol[0]))"
   ]
  },
  {
   "cell_type": "code",
   "execution_count": 4,
   "id": "b0fe5f72",
   "metadata": {},
   "outputs": [
    {
     "name": "stdout",
     "output_type": "stream",
     "text": [
      "Generating 100 conformers for each molecule\n"
     ]
    }
   ],
   "source": [
    "print('Generating 100 conformers for each molecule')\n",
    "for mol in molecules[0:]:\n",
    "    AllChem.EmbedMultipleConfs(mol, 100, p)"
   ]
  },
  {
   "cell_type": "code",
   "execution_count": 5,
   "id": "5afedfff",
   "metadata": {},
   "outputs": [],
   "source": [
    "mmff_params = [AllChem.MMFFGetMoleculeProperties(mol) for mol in molecules]\n",
    "mmff_ref_param = mmff_params[0]\n",
    "mmff_prob_params = mmff_params[1:]\n",
    "ref_mol2 = molecules[0]\n",
    "prob_mols_2 = molecules[1:]"
   ]
  },
  {
   "cell_type": "code",
   "execution_count": 1,
   "id": "86b341fd",
   "metadata": {},
   "outputs": [
    {
     "ename": "NameError",
     "evalue": "name 'Chem' is not defined",
     "output_type": "error",
     "traceback": [
      "\u001b[0;31m---------------------------------------------------------------------------\u001b[0m",
      "\u001b[0;31mNameError\u001b[0m                                 Traceback (most recent call last)",
      "Cell \u001b[0;32mIn[1], line 1\u001b[0m\n\u001b[0;32m----> 1\u001b[0m \u001b[38;5;28;01mwith\u001b[39;00m Chem\u001b[38;5;241m.\u001b[39mSDWriter(\u001b[38;5;124m'\u001b[39m\u001b[38;5;124mjunk_9_11/000.sdf\u001b[39m\u001b[38;5;124m'\u001b[39m) \u001b[38;5;28;01mas\u001b[39;00m writer:\n\u001b[1;32m      2\u001b[0m     writer\u001b[38;5;241m.\u001b[39mwrite(ref_mol2) \u001b[38;5;66;03m#, confId=1)\u001b[39;00m\n\u001b[1;32m      3\u001b[0m     writer\u001b[38;5;241m.\u001b[39mwrite(ref_mol2)\n",
      "\u001b[0;31mNameError\u001b[0m: name 'Chem' is not defined"
     ]
    }
   ],
   "source": [
    "with Chem.SDWriter('junk_9_11/000.sdf') as writer:\n",
    "    writer.write(ref_mol2) #, confId=1)"
   ]
  },
  {
   "cell_type": "code",
   "execution_count": 6,
   "id": "20c12a2b",
   "metadata": {},
   "outputs": [
    {
     "name": "stdout",
     "output_type": "stream",
     "text": [
      "Performing alignment and saving the conformer with best score only.\n",
      "pyO3A_score: [156.51249718015578]\n"
     ]
    }
   ],
   "source": [
    "print('Performing alignment and saving the conformer with best score only.')\n",
    "\n",
    "with Chem.SDWriter('aligned.sdf') as writer:\n",
    "    writer.write(ref_mol2)\n",
    "    pyO3A_score = []\n",
    "    for idx, mol in enumerate(prob_mols_2):\n",
    "        tempscore = []\n",
    "        for cid in range(100):\n",
    "            pyO3A = rdMolAlign.GetO3A(mol, ref_mol2, mmff_prob_params[idx], mmff_ref_param, cid, 0)\n",
    "            pyO3A.Align()\n",
    "            tempscore.append(pyO3A.Score())\n",
    "        best = np.argmax(tempscore)\n",
    "        ## save sdf file\n",
    "        writer.write(mol, confId=int(best))\n",
    "        pyO3A_score.append(tempscore[best])\n",
    "\n",
    "print('pyO3A_score: ' + str(pyO3A_score))"
   ]
  },
  {
   "cell_type": "code",
   "execution_count": 19,
   "id": "e2f7eeb8",
   "metadata": {},
   "outputs": [
    {
     "data": {
      "text/plain": [
       "[134.06481831657916]"
      ]
     },
     "execution_count": 19,
     "metadata": {},
     "output_type": "execute_result"
    }
   ],
   "source": [
    "pyO3A_score"
   ]
  },
  {
   "cell_type": "code",
   "execution_count": 21,
   "id": "026f5e00",
   "metadata": {},
   "outputs": [
    {
     "data": {
      "application/3dmoljs_load.v0": "<div id=\"3dmolviewer_1700148068807719\"  style=\"position: relative; width: 800px; height: 400px;\">\n        <p id=\"3dmolwarning_1700148068807719\" style=\"background-color:#ffcccc;color:black\">You appear to be running in JupyterLab (or JavaScript failed to load for some other reason).  You need to install the 3dmol extension: <br>\n        <tt>jupyter labextension install jupyterlab_3dmol</tt></p>\n        </div>\n<script>\n\nvar loadScriptAsync = function(uri){\n  return new Promise((resolve, reject) => {\n    //this is to ignore the existence of requirejs amd\n    var savedexports, savedmodule;\n    if (typeof exports !== 'undefined') savedexports = exports;\n    else exports = {}\n    if (typeof module !== 'undefined') savedmodule = module;\n    else module = {}\n\n    var tag = document.createElement('script');\n    tag.src = uri;\n    tag.async = true;\n    tag.onload = () => {\n        exports = savedexports;\n        module = savedmodule;\n        resolve();\n    };\n  var firstScriptTag = document.getElementsByTagName('script')[0];\n  firstScriptTag.parentNode.insertBefore(tag, firstScriptTag);\n});\n};\n\nif(typeof $3Dmolpromise === 'undefined') {\n$3Dmolpromise = null;\n  $3Dmolpromise = loadScriptAsync('https://cdnjs.cloudflare.com/ajax/libs/3Dmol/2.0.4/3Dmol-min.js');\n}\n\nvar viewer_1700148068807719 = null;\nvar warn = document.getElementById(\"3dmolwarning_1700148068807719\");\nif(warn) {\n    warn.parentNode.removeChild(warn);\n}\n$3Dmolpromise.then(function() {\nviewer_1700148068807719 = $3Dmol.createViewer(document.getElementById(\"3dmolviewer_1700148068807719\"),{backgroundColor:\"white\"});\nviewer_1700148068807719.zoomTo();\n\tviewer_1700148068807719.addModel(\"\\n     RDKit          3D\\n\\n 42 45  0  0  0  0  0  0  0  0999 V2000\\n    5.5356   -1.3335   -1.7978 C   0  0  0  0  0  0  0  0  0  0  0  0\\n    6.2753   -0.8032   -0.8101 N   0  0  0  0  0  0  0  0  0  0  0  0\\n    5.7650    0.0603    0.0881 C   0  0  0  0  0  0  0  0  0  0  0  0\\n    6.6157    0.6312    1.1738 C   0  0  0  0  0  0  0  0  0  0  0  0\\n    7.9368    0.5980    0.7584 F   0  0  0  0  0  0  0  0  0  0  0  0\\n    6.5443   -0.1483    2.3140 F   0  0  0  0  0  0  0  0  0  0  0  0\\n    6.3006    1.9534    1.4249 F   0  0  0  0  0  0  0  0  0  0  0  0\\n    4.4291    0.4235    0.0017 C   0  0  0  0  0  0  0  0  0  0  0  0\\n    3.6143   -0.0957   -1.0027 C   0  0  0  0  0  0  0  0  0  0  0  0\\n    2.2448    0.2742   -1.0943 N   0  0  0  0  0  0  0  0  0  0  0  0\\n    1.2210   -0.4663   -0.4145 C   0  0  0  0  0  0  0  0  0  0  0  0\\n    1.5826   -1.4391    0.2537 O   0  0  0  0  0  0  0  0  0  0  0  0\\n   -0.1314   -0.1134   -0.4959 N   0  0  0  0  0  0  0  0  0  0  0  0\\n   -1.2400   -0.7601    0.1122 C   0  0  0  0  0  0  0  0  0  0  0  0\\n   -1.0725   -1.9637    0.7387 C   0  0  0  0  0  0  0  0  0  0  0  0\\n   -2.1508   -2.5627    1.3132 N   0  0  0  0  0  0  0  0  0  0  0  0\\n   -3.3527   -1.9829    1.2628 C   0  0  0  0  0  0  0  0  0  0  0  0\\n   -4.5429   -2.4299    1.7518 C   0  0  0  0  0  0  0  0  0  0  0  0\\n   -5.4551   -1.5299    1.4411 N   0  0  0  0  0  0  0  0  0  0  0  0\\n   -4.8732   -0.5302    0.7713 N   0  0  0  0  0  0  0  0  0  0  0  0\\n   -5.5986    0.5850    0.2535 C   0  0  0  0  0  0  0  0  0  0  0  0\\n   -3.5618   -0.7611    0.6351 C   0  0  0  0  0  0  0  0  0  0  0  0\\n   -2.5003   -0.1392    0.0558 C   0  0  0  0  0  0  0  0  0  0  0  0\\n   -2.6534    1.1652   -0.5969 C   0  0  0  0  0  0  0  0  0  0  0  0\\n   -1.8005    2.3329   -0.1434 C   0  0  0  0  0  0  0  0  0  0  0  0\\n   -3.1855    2.3256    0.2876 C   0  0  0  0  0  0  0  0  0  0  0  0\\n    4.2022   -0.9774   -1.8922 C   0  0  0  0  0  0  0  0  0  0  0  0\\n    6.0132   -2.0205   -2.4827 H   0  0  0  0  0  0  0  0  0  0  0  0\\n    3.9831    1.1142    0.7046 H   0  0  0  0  0  0  0  0  0  0  0  0\\n    1.9695    1.1054   -1.6697 H   0  0  0  0  0  0  0  0  0  0  0  0\\n   -0.3204    0.7488   -1.1139 H   0  0  0  0  0  0  0  0  0  0  0  0\\n   -0.1333   -2.4996    0.8127 H   0  0  0  0  0  0  0  0  0  0  0  0\\n   -4.7538   -3.3466    2.3006 H   0  0  0  0  0  0  0  0  0  0  0  0\\n   -6.6787    0.2357    0.0453 H   0  0  0  0  0  0  0  0  0  0  0  0\\n   -5.7529    1.4290    0.9194 H   0  0  0  0  0  0  0  0  0  0  0  0\\n   -5.2775    0.8486   -0.7949 H   0  0  0  0  0  0  0  0  0  0  0  0\\n   -2.8889    1.1707   -1.6588 H   0  0  0  0  0  0  0  0  0  0  0  0\\n   -1.0335    2.1982    0.6454 H   0  0  0  0  0  0  0  0  0  0  0  0\\n   -1.4852    3.0877   -0.9042 H   0  0  0  0  0  0  0  0  0  0  0  0\\n   -3.9724    2.9394   -0.2095 H   0  0  0  0  0  0  0  0  0  0  0  0\\n   -3.4093    2.0820    1.3525 H   0  0  0  0  0  0  0  0  0  0  0  0\\n    3.5912   -1.4053   -2.6948 H   0  0  0  0  0  0  0  0  0  0  0  0\\n  1  2  2  0\\n  2  3  1  0\\n  3  4  1  0\\n  4  5  1  0\\n  4  6  1  0\\n  4  7  1  0\\n  3  8  2  0\\n  8  9  1  0\\n  9 10  1  0\\n 10 11  1  0\\n 11 12  2  0\\n 11 13  1  0\\n 13 14  1  0\\n 14 15  2  0\\n 15 16  1  0\\n 16 17  2  0\\n 17 18  1  0\\n 18 19  2  0\\n 19 20  1  0\\n 20 21  1  0\\n 20 22  1  0\\n 22 23  2  0\\n 23 24  1  0\\n 24 25  1  0\\n 25 26  1  0\\n  9 27  2  0\\n 27  1  1  0\\n 23 14  1  0\\n 26 24  1  0\\n 22 17  1  0\\n  1 28  1  0\\n  8 29  1  0\\n 10 30  1  0\\n 13 31  1  0\\n 15 32  1  0\\n 18 33  1  0\\n 21 34  1  0\\n 21 35  1  0\\n 21 36  1  0\\n 24 37  1  0\\n 25 38  1  0\\n 25 39  1  0\\n 26 40  1  0\\n 26 41  1  0\\n 27 42  1  0\\nM  END\\n\",\"sdf\");\n\tviewer_1700148068807719.addModel(\"\\n     RDKit          3D\\n\\n 23 24  0  0  0  0  0  0  0  0999 V2000\\n   -1.0766   -1.9375    0.8431 C   0  0  0  0  0  0  0  0  0  0  0  0\\n   -2.1524   -2.5553    1.3991 N   0  0  0  0  0  0  0  0  0  0  0  0\\n   -3.3649   -2.0204    1.3094 C   0  0  0  0  0  0  0  0  0  0  0  0\\n   -4.5977   -2.4317    1.7739 C   0  0  0  0  0  0  0  0  0  0  0  0\\n   -5.4942   -1.5188    1.4066 N   0  0  0  0  0  0  0  0  0  0  0  0\\n   -4.8888   -0.5554    0.7355 N   0  0  0  0  0  0  0  0  0  0  0  0\\n   -5.5013    0.6224    0.1622 C   0  0  0  0  0  0  0  0  0  0  0  0\\n   -3.5593   -0.8418    0.6592 C   0  0  0  0  0  0  0  0  0  0  0  0\\n   -2.4884   -0.2109    0.0966 C   0  0  0  0  0  0  0  0  0  0  0  0\\n   -1.1889   -0.7656    0.1819 C   0  0  0  0  0  0  0  0  0  0  0  0\\n   -0.1234   -0.0816   -0.4106 N   0  0  0  0  0  0  0  0  0  0  0  0\\n    1.2368   -0.4578   -0.4403 C   0  0  0  0  0  0  0  0  0  0  0  0\\n    1.5892   -1.5139    0.1097 O   0  0  0  0  0  0  0  0  0  0  0  0\\n    2.2241    0.3498   -1.0904 N   0  0  0  0  0  0  0  0  0  0  0  0\\n   -0.1498   -2.4422    0.9675 H   0  0  0  0  0  0  0  0  0  0  0  0\\n   -4.7448   -3.3502    2.3351 H   0  0  0  0  0  0  0  0  0  0  0  0\\n   -6.5434    0.7088    0.5786 H   0  0  0  0  0  0  0  0  0  0  0  0\\n   -4.9928    1.5541    0.4103 H   0  0  0  0  0  0  0  0  0  0  0  0\\n   -5.6373    0.4434   -0.9242 H   0  0  0  0  0  0  0  0  0  0  0  0\\n   -2.6197    0.7115   -0.4160 H   0  0  0  0  0  0  0  0  0  0  0  0\\n   -0.3318    0.8531   -0.9162 H   0  0  0  0  0  0  0  0  0  0  0  0\\n    2.9545   -0.1096   -1.6619 H   0  0  0  0  0  0  0  0  0  0  0  0\\n    2.2174    1.3750   -0.9976 H   0  0  0  0  0  0  0  0  0  0  0  0\\n  1  2  2  0\\n  2  3  1  0\\n  3  4  1  0\\n  4  5  2  0\\n  5  6  1  0\\n  6  7  1  0\\n  6  8  1  0\\n  8  9  1  0\\n  9 10  2  0\\n 10 11  1  0\\n 11 12  1  0\\n 12 13  2  0\\n 12 14  1  0\\n 10  1  1  0\\n  8  3  2  0\\n  1 15  1  0\\n  4 16  1  0\\n  7 17  1  0\\n  7 18  1  0\\n  7 19  1  0\\n  9 20  1  0\\n 11 21  1  0\\n 14 22  1  0\\n 14 23  1  0\\nM  END\\n\",\"sdf\");\n\tviewer_1700148068807719.setStyle({\"stick\": {\"colorscheme\": \"cyanCarbon\"}});\n\tviewer_1700148068807719.render();\nviewer_1700148068807719.render();\n});\n</script>",
      "text/html": [
       "<div id=\"3dmolviewer_1700148068807719\"  style=\"position: relative; width: 800px; height: 400px;\">\n",
       "        <p id=\"3dmolwarning_1700148068807719\" style=\"background-color:#ffcccc;color:black\">You appear to be running in JupyterLab (or JavaScript failed to load for some other reason).  You need to install the 3dmol extension: <br>\n",
       "        <tt>jupyter labextension install jupyterlab_3dmol</tt></p>\n",
       "        </div>\n",
       "<script>\n",
       "\n",
       "var loadScriptAsync = function(uri){\n",
       "  return new Promise((resolve, reject) => {\n",
       "    //this is to ignore the existence of requirejs amd\n",
       "    var savedexports, savedmodule;\n",
       "    if (typeof exports !== 'undefined') savedexports = exports;\n",
       "    else exports = {}\n",
       "    if (typeof module !== 'undefined') savedmodule = module;\n",
       "    else module = {}\n",
       "\n",
       "    var tag = document.createElement('script');\n",
       "    tag.src = uri;\n",
       "    tag.async = true;\n",
       "    tag.onload = () => {\n",
       "        exports = savedexports;\n",
       "        module = savedmodule;\n",
       "        resolve();\n",
       "    };\n",
       "  var firstScriptTag = document.getElementsByTagName('script')[0];\n",
       "  firstScriptTag.parentNode.insertBefore(tag, firstScriptTag);\n",
       "});\n",
       "};\n",
       "\n",
       "if(typeof $3Dmolpromise === 'undefined') {\n",
       "$3Dmolpromise = null;\n",
       "  $3Dmolpromise = loadScriptAsync('https://cdnjs.cloudflare.com/ajax/libs/3Dmol/2.0.4/3Dmol-min.js');\n",
       "}\n",
       "\n",
       "var viewer_1700148068807719 = null;\n",
       "var warn = document.getElementById(\"3dmolwarning_1700148068807719\");\n",
       "if(warn) {\n",
       "    warn.parentNode.removeChild(warn);\n",
       "}\n",
       "$3Dmolpromise.then(function() {\n",
       "viewer_1700148068807719 = $3Dmol.createViewer(document.getElementById(\"3dmolviewer_1700148068807719\"),{backgroundColor:\"white\"});\n",
       "viewer_1700148068807719.zoomTo();\n",
       "\tviewer_1700148068807719.addModel(\"\\n     RDKit          3D\\n\\n 42 45  0  0  0  0  0  0  0  0999 V2000\\n    5.5356   -1.3335   -1.7978 C   0  0  0  0  0  0  0  0  0  0  0  0\\n    6.2753   -0.8032   -0.8101 N   0  0  0  0  0  0  0  0  0  0  0  0\\n    5.7650    0.0603    0.0881 C   0  0  0  0  0  0  0  0  0  0  0  0\\n    6.6157    0.6312    1.1738 C   0  0  0  0  0  0  0  0  0  0  0  0\\n    7.9368    0.5980    0.7584 F   0  0  0  0  0  0  0  0  0  0  0  0\\n    6.5443   -0.1483    2.3140 F   0  0  0  0  0  0  0  0  0  0  0  0\\n    6.3006    1.9534    1.4249 F   0  0  0  0  0  0  0  0  0  0  0  0\\n    4.4291    0.4235    0.0017 C   0  0  0  0  0  0  0  0  0  0  0  0\\n    3.6143   -0.0957   -1.0027 C   0  0  0  0  0  0  0  0  0  0  0  0\\n    2.2448    0.2742   -1.0943 N   0  0  0  0  0  0  0  0  0  0  0  0\\n    1.2210   -0.4663   -0.4145 C   0  0  0  0  0  0  0  0  0  0  0  0\\n    1.5826   -1.4391    0.2537 O   0  0  0  0  0  0  0  0  0  0  0  0\\n   -0.1314   -0.1134   -0.4959 N   0  0  0  0  0  0  0  0  0  0  0  0\\n   -1.2400   -0.7601    0.1122 C   0  0  0  0  0  0  0  0  0  0  0  0\\n   -1.0725   -1.9637    0.7387 C   0  0  0  0  0  0  0  0  0  0  0  0\\n   -2.1508   -2.5627    1.3132 N   0  0  0  0  0  0  0  0  0  0  0  0\\n   -3.3527   -1.9829    1.2628 C   0  0  0  0  0  0  0  0  0  0  0  0\\n   -4.5429   -2.4299    1.7518 C   0  0  0  0  0  0  0  0  0  0  0  0\\n   -5.4551   -1.5299    1.4411 N   0  0  0  0  0  0  0  0  0  0  0  0\\n   -4.8732   -0.5302    0.7713 N   0  0  0  0  0  0  0  0  0  0  0  0\\n   -5.5986    0.5850    0.2535 C   0  0  0  0  0  0  0  0  0  0  0  0\\n   -3.5618   -0.7611    0.6351 C   0  0  0  0  0  0  0  0  0  0  0  0\\n   -2.5003   -0.1392    0.0558 C   0  0  0  0  0  0  0  0  0  0  0  0\\n   -2.6534    1.1652   -0.5969 C   0  0  0  0  0  0  0  0  0  0  0  0\\n   -1.8005    2.3329   -0.1434 C   0  0  0  0  0  0  0  0  0  0  0  0\\n   -3.1855    2.3256    0.2876 C   0  0  0  0  0  0  0  0  0  0  0  0\\n    4.2022   -0.9774   -1.8922 C   0  0  0  0  0  0  0  0  0  0  0  0\\n    6.0132   -2.0205   -2.4827 H   0  0  0  0  0  0  0  0  0  0  0  0\\n    3.9831    1.1142    0.7046 H   0  0  0  0  0  0  0  0  0  0  0  0\\n    1.9695    1.1054   -1.6697 H   0  0  0  0  0  0  0  0  0  0  0  0\\n   -0.3204    0.7488   -1.1139 H   0  0  0  0  0  0  0  0  0  0  0  0\\n   -0.1333   -2.4996    0.8127 H   0  0  0  0  0  0  0  0  0  0  0  0\\n   -4.7538   -3.3466    2.3006 H   0  0  0  0  0  0  0  0  0  0  0  0\\n   -6.6787    0.2357    0.0453 H   0  0  0  0  0  0  0  0  0  0  0  0\\n   -5.7529    1.4290    0.9194 H   0  0  0  0  0  0  0  0  0  0  0  0\\n   -5.2775    0.8486   -0.7949 H   0  0  0  0  0  0  0  0  0  0  0  0\\n   -2.8889    1.1707   -1.6588 H   0  0  0  0  0  0  0  0  0  0  0  0\\n   -1.0335    2.1982    0.6454 H   0  0  0  0  0  0  0  0  0  0  0  0\\n   -1.4852    3.0877   -0.9042 H   0  0  0  0  0  0  0  0  0  0  0  0\\n   -3.9724    2.9394   -0.2095 H   0  0  0  0  0  0  0  0  0  0  0  0\\n   -3.4093    2.0820    1.3525 H   0  0  0  0  0  0  0  0  0  0  0  0\\n    3.5912   -1.4053   -2.6948 H   0  0  0  0  0  0  0  0  0  0  0  0\\n  1  2  2  0\\n  2  3  1  0\\n  3  4  1  0\\n  4  5  1  0\\n  4  6  1  0\\n  4  7  1  0\\n  3  8  2  0\\n  8  9  1  0\\n  9 10  1  0\\n 10 11  1  0\\n 11 12  2  0\\n 11 13  1  0\\n 13 14  1  0\\n 14 15  2  0\\n 15 16  1  0\\n 16 17  2  0\\n 17 18  1  0\\n 18 19  2  0\\n 19 20  1  0\\n 20 21  1  0\\n 20 22  1  0\\n 22 23  2  0\\n 23 24  1  0\\n 24 25  1  0\\n 25 26  1  0\\n  9 27  2  0\\n 27  1  1  0\\n 23 14  1  0\\n 26 24  1  0\\n 22 17  1  0\\n  1 28  1  0\\n  8 29  1  0\\n 10 30  1  0\\n 13 31  1  0\\n 15 32  1  0\\n 18 33  1  0\\n 21 34  1  0\\n 21 35  1  0\\n 21 36  1  0\\n 24 37  1  0\\n 25 38  1  0\\n 25 39  1  0\\n 26 40  1  0\\n 26 41  1  0\\n 27 42  1  0\\nM  END\\n\",\"sdf\");\n",
       "\tviewer_1700148068807719.addModel(\"\\n     RDKit          3D\\n\\n 23 24  0  0  0  0  0  0  0  0999 V2000\\n   -1.0766   -1.9375    0.8431 C   0  0  0  0  0  0  0  0  0  0  0  0\\n   -2.1524   -2.5553    1.3991 N   0  0  0  0  0  0  0  0  0  0  0  0\\n   -3.3649   -2.0204    1.3094 C   0  0  0  0  0  0  0  0  0  0  0  0\\n   -4.5977   -2.4317    1.7739 C   0  0  0  0  0  0  0  0  0  0  0  0\\n   -5.4942   -1.5188    1.4066 N   0  0  0  0  0  0  0  0  0  0  0  0\\n   -4.8888   -0.5554    0.7355 N   0  0  0  0  0  0  0  0  0  0  0  0\\n   -5.5013    0.6224    0.1622 C   0  0  0  0  0  0  0  0  0  0  0  0\\n   -3.5593   -0.8418    0.6592 C   0  0  0  0  0  0  0  0  0  0  0  0\\n   -2.4884   -0.2109    0.0966 C   0  0  0  0  0  0  0  0  0  0  0  0\\n   -1.1889   -0.7656    0.1819 C   0  0  0  0  0  0  0  0  0  0  0  0\\n   -0.1234   -0.0816   -0.4106 N   0  0  0  0  0  0  0  0  0  0  0  0\\n    1.2368   -0.4578   -0.4403 C   0  0  0  0  0  0  0  0  0  0  0  0\\n    1.5892   -1.5139    0.1097 O   0  0  0  0  0  0  0  0  0  0  0  0\\n    2.2241    0.3498   -1.0904 N   0  0  0  0  0  0  0  0  0  0  0  0\\n   -0.1498   -2.4422    0.9675 H   0  0  0  0  0  0  0  0  0  0  0  0\\n   -4.7448   -3.3502    2.3351 H   0  0  0  0  0  0  0  0  0  0  0  0\\n   -6.5434    0.7088    0.5786 H   0  0  0  0  0  0  0  0  0  0  0  0\\n   -4.9928    1.5541    0.4103 H   0  0  0  0  0  0  0  0  0  0  0  0\\n   -5.6373    0.4434   -0.9242 H   0  0  0  0  0  0  0  0  0  0  0  0\\n   -2.6197    0.7115   -0.4160 H   0  0  0  0  0  0  0  0  0  0  0  0\\n   -0.3318    0.8531   -0.9162 H   0  0  0  0  0  0  0  0  0  0  0  0\\n    2.9545   -0.1096   -1.6619 H   0  0  0  0  0  0  0  0  0  0  0  0\\n    2.2174    1.3750   -0.9976 H   0  0  0  0  0  0  0  0  0  0  0  0\\n  1  2  2  0\\n  2  3  1  0\\n  3  4  1  0\\n  4  5  2  0\\n  5  6  1  0\\n  6  7  1  0\\n  6  8  1  0\\n  8  9  1  0\\n  9 10  2  0\\n 10 11  1  0\\n 11 12  1  0\\n 12 13  2  0\\n 12 14  1  0\\n 10  1  1  0\\n  8  3  2  0\\n  1 15  1  0\\n  4 16  1  0\\n  7 17  1  0\\n  7 18  1  0\\n  7 19  1  0\\n  9 20  1  0\\n 11 21  1  0\\n 14 22  1  0\\n 14 23  1  0\\nM  END\\n\",\"sdf\");\n",
       "\tviewer_1700148068807719.setStyle({\"stick\": {\"colorscheme\": \"cyanCarbon\"}});\n",
       "\tviewer_1700148068807719.render();\n",
       "viewer_1700148068807719.render();\n",
       "});\n",
       "</script>"
      ]
     },
     "metadata": {},
     "output_type": "display_data"
    },
    {
     "data": {
      "text/plain": [
       "<py3Dmol.view at 0x7f178ee8a8d0>"
      ]
     },
     "execution_count": 21,
     "metadata": {},
     "output_type": "execute_result"
    }
   ],
   "source": [
    "import py3Dmol\n",
    "p_O3A = py3Dmol.view(width=800, height=400)\n",
    "p_O3A.addModel(Chem.MolToMolBlock(ref_mol2), 'sdf')\n",
    "p_O3A.addModel(Chem.MolToMolBlock(mol, confId=int(best)), 'sdf')\n",
    "p_O3A.setStyle({'stick':{'colorscheme':'cyanCarbon'}})\n",
    "p_O3A.render()"
   ]
  },
  {
   "cell_type": "code",
   "execution_count": null,
   "id": "b15119d1",
   "metadata": {},
   "outputs": [],
   "source": []
  }
 ],
 "metadata": {
  "kernelspec": {
   "display_name": "Python 3 (ipykernel)",
   "language": "python",
   "name": "python3"
  },
  "language_info": {
   "codemirror_mode": {
    "name": "ipython",
    "version": 3
   },
   "file_extension": ".py",
   "mimetype": "text/x-python",
   "name": "python",
   "nbconvert_exporter": "python",
   "pygments_lexer": "ipython3",
   "version": "3.11.6"
  }
 },
 "nbformat": 4,
 "nbformat_minor": 5
}
