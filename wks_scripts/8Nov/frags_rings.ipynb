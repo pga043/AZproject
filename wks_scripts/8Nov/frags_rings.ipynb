{
 "cells": [
  {
   "cell_type": "code",
   "execution_count": 1,
   "id": "53ee7536-fb50-4e49-ae4e-12ad774e720e",
   "metadata": {
    "tags": []
   },
   "outputs": [],
   "source": [
    "import copy\n",
    "import rdkit\n",
    "from rdkit import Chem\n",
    "#from rdkit.Chem import Fraggle\n",
    "#from rdkit.Chem.Fraggle import FraggleSim\n",
    "#from rdkit.Chem.Fraggle.FraggleSim import GetFraggleSimilarity\n",
    "from rdkit.Chem import AllChem\n",
    "from rdkit.Chem import Draw\n",
    "from rdkit.Chem import Recap,BRICS\n",
    "from rdkit.Chem.Draw import IPythonConsole\n",
    "from IPython.display import display\n",
    "from rdkit import DataStructs"
   ]
  },
  {
   "cell_type": "code",
   "execution_count": 2,
   "id": "83f0a958-8826-4daf-b88d-8c1afab7708a",
   "metadata": {
    "tags": []
   },
   "outputs": [
    {
     "data": {
      "image/png": "[encoded data removed]",
      "text/plain": [
       "<rdkit.Chem.rdchem.Mol at 0x7f93bd8bc6d0>"
      ]
     },
     "metadata": {},
     "output_type": "display_data"
    },
    {
     "data": {
      "image/png": "[encoded data removed]",
      "text/plain": [
       "<rdkit.Chem.rdchem.Mol at 0x7f93bd8bc5f0>"
      ]
     },
     "metadata": {},
     "output_type": "display_data"
    }
   ],
   "source": [
    "#mol03 = Chem.SDMolSupplier('M03.sdf')\n",
    "#mol13 = Chem.SDMolSupplier('M13.sdf')\n",
    "\n",
    "mol03 = Chem.MolFromSmiles(\"O=c1c(C2=C[C@H](C(=O)N(C2)c2cnccc2)c2cc(F)cc(OC)c2)c[nH]c(=O)[nH]1\")\n",
    "mol13 = Chem.MolFromSmiles(\"c1sc(c(n1)COc1cc(Cl)cc(c1)c1cc(c2c[nH]c(=O)[nH]c2=O)cn(c1=O)c1cnccc1)C\")\n",
    "\n",
    "molecules = [mol03, mol13]\n",
    "\n",
    "for mol in molecules:\n",
    "    display(mol)\n"
   ]
  },
  {
   "cell_type": "markdown",
   "id": "4f6bc2e5",
   "metadata": {},
   "source": [
    "Trying stuff with BRICS"
   ]
  },
  {
   "cell_type": "code",
   "execution_count": 3,
   "id": "5951db5b",
   "metadata": {
    "scrolled": false
   },
   "outputs": [
    {
     "name": "stderr",
     "output_type": "stream",
     "text": [
      "[13:27:11] WARNING: not removing hydrogen atom without neighbors\n",
      "[13:27:11] WARNING: not removing hydrogen atom without neighbors\n",
      "[13:27:11] WARNING: not removing hydrogen atom without neighbors\n",
      "[13:27:11] WARNING: not removing hydrogen atom without neighbors\n",
      "[13:27:11] WARNING: not removing hydrogen atom without neighbors\n",
      "[13:27:11] WARNING: not removing hydrogen atom without neighbors\n",
      "[13:27:11] WARNING: not removing hydrogen atom without neighbors\n",
      "[13:27:11] WARNING: not removing hydrogen atom without neighbors\n",
      "[13:27:11] WARNING: not removing hydrogen atom without neighbors\n",
      "[13:27:11] WARNING: not removing hydrogen atom without neighbors\n",
      "[13:27:11] WARNING: not removing hydrogen atom without neighbors\n",
      "[13:27:11] WARNING: not removing hydrogen atom without neighbors\n",
      "[13:27:11] WARNING: not removing hydrogen atom without neighbors\n",
      "[13:27:11] WARNING: not removing hydrogen atom without neighbors\n",
      "[13:27:11] WARNING: not removing hydrogen atom without neighbors\n",
      "[13:27:11] WARNING: not removing hydrogen atom without neighbors\n",
      "[13:27:11] WARNING: not removing hydrogen atom without neighbors\n",
      "[13:27:11] WARNING: not removing hydrogen atom without neighbors\n",
      "[13:27:11] WARNING: not removing hydrogen atom without neighbors\n",
      "[13:27:11] WARNING: not removing hydrogen atom without neighbors\n",
      "[13:27:11] WARNING: not removing hydrogen atom without neighbors\n",
      "[13:27:11] WARNING: not removing hydrogen atom without neighbors\n",
      "[13:27:11] WARNING: not removing hydrogen atom without neighbors\n",
      "[13:27:11] WARNING: not removing hydrogen atom without neighbors\n",
      "[13:27:11] WARNING: not removing hydrogen atom without neighbors\n",
      "[13:27:11] WARNING: not removing hydrogen atom without neighbors\n",
      "[13:27:11] WARNING: not removing hydrogen atom without neighbors\n",
      "[13:27:11] WARNING: not removing hydrogen atom without neighbors\n",
      "[13:27:11] WARNING: not removing hydrogen atom without neighbors\n",
      "[13:27:11] WARNING: not removing hydrogen atom without neighbors\n",
      "[13:27:11] WARNING: not removing hydrogen atom without neighbors\n",
      "[13:27:11] WARNING: not removing hydrogen atom without neighbors\n",
      "[13:27:11] WARNING: not removing hydrogen atom without neighbors\n",
      "[13:27:11] WARNING: not removing hydrogen atom without neighbors\n",
      "[13:27:11] WARNING: not removing hydrogen atom without neighbors\n"
     ]
    }
   ],
   "source": [
    "# generate dummy atom\n",
    "du = Chem.MolFromSmiles('*')\n",
    "\n",
    "all_smiles = []\n",
    "all_smiles.clear()\n",
    "\n",
    "## fragmenting using BRICSDecompose\n",
    "for mol in molecules:\n",
    "    frags = list(Chem.BRICS.BRICSDecompose(mol, minFragmentSize=6, keepNonLeafNodes=True, returnMols=False))\n",
    "    ##if returnMols = False\n",
    "    mols = [Chem.MolFromSmiles(x) for x in frags]\n",
    "    ## replace dummy atoms with hydrogens\n",
    "    molh = [AllChem.ReplaceSubstructs(x,du,Chem.MolFromSmiles('[H]'), True)[0] for x in mols]\n",
    "    ## convert mols to smiles\n",
    "    all_smiles.append([Chem.MolToSmiles(x) for x in molh])\n",
    "\n",
    "#Draw.MolsToGridImage(molh, molsPerRow=4, subImgSize=(200, 200))\n",
    "#all_smiles"
   ]
  },
  {
   "cell_type": "code",
   "execution_count": 4,
   "id": "2c965f2e",
   "metadata": {},
   "outputs": [],
   "source": [
    "#Fraggle similarity between two molecules\n",
    "#for i in all_smiles:\n",
    "#    for smi in i:\n",
    "#        query = Chem.MolFromSmiles(smi)\n",
    "#        ref = Chem.MolFromSmiles(i[3])\n",
    "#        sim, match = GetFraggleSimilarity(query, ref)\n",
    "#        print(sim)\n",
    "#        display(match)"
   ]
  },
  {
   "cell_type": "code",
   "execution_count": 5,
   "id": "5e281db0",
   "metadata": {},
   "outputs": [],
   "source": [
    "## Tanimoto similarity\n",
    "\n",
    "#for i in all_smiles:\n",
    "#    for smi in i:\n",
    "#        query = Chem.MolFromSmiles(smi)\n",
    "#        ref = Chem.MolFromSmiles(i[3])\n",
    "#        fp_q = Chem.RDKFingerprint(query)\n",
    "#        fp_r = Chem.RDKFingerprint(ref)\n",
    "#        sim = DataStructs.TanimotoSimilarity(fp_r,fp_q)\n",
    "#        print(round(sim,1))"
   ]
  },
  {
   "cell_type": "code",
   "execution_count": 6,
   "id": "65ae22e4",
   "metadata": {},
   "outputs": [],
   "source": [
    "## Dice similarity\n",
    "\n",
    "#for i in all_smiles:\n",
    "#    for smi in i:\n",
    "#        query = Chem.MolFromSmiles(smi)\n",
    "#        ref = Chem.MolFromSmiles(i[3])\n",
    "#        fp_q = Chem.RDKFingerprint(query)\n",
    "#        fp_r = Chem.RDKFingerprint(ref)\n",
    "#        sim = DataStructs.DiceSimilarity(fp_r,fp_q)\n",
    "#        print(round(sim,1))"
   ]
  },
  {
   "cell_type": "code",
   "execution_count": 7,
   "id": "eebaabf5",
   "metadata": {},
   "outputs": [],
   "source": [
    "#for i in all_smiles:\n",
    "#    print(i)\n",
    "#    for smi in sorted(i):\n",
    "#        tmp_mol = Chem.MolFromSmiles(smi)\n",
    "#        #print(smi)\n",
    "#        print(tmp_mol.GetNumAtoms())"
   ]
  },
  {
   "cell_type": "code",
   "execution_count": 11,
   "id": "a36384cd",
   "metadata": {},
   "outputs": [],
   "source": [
    "## save fragemnets using similarity as a filter\n",
    "## tanimoto similarity cut-off  = 0.35\n",
    "## Dice threshold = 0.45\n",
    "## the cut-offs are somewhat arbitrary for now.\n",
    "x = 0\n",
    "y = 0\n",
    "\n",
    "cutoff = 0.5\n",
    "##  all_smiles is a list of list so, need to use a nested loop\n",
    "for i in all_smiles:\n",
    "    for smi in i:\n",
    "        mol   = Chem.MolFromSmiles(smi)\n",
    "        mol   = Chem.AddHs(mol)\n",
    "        query = mol\n",
    "        ref   = molecules[all_smiles.index(i)]\n",
    "        ##print(all_smiles.index(i))\n",
    "        fp_q  = Chem.RDKFingerprint(query)\n",
    "        fp_r  = Chem.RDKFingerprint(ref)\n",
    "        sim   = DataStructs.TanimotoSimilarity(fp_r,fp_q)\n",
    "        if round(sim,1) > cutoff:\n",
    "        ## save 2D sdf file\n",
    "            sdfFile2d = open('tmp/tmp_' +str(y) + '_' +str(x) + '.sdf', 'w')\n",
    "            writer = Chem.SDWriter(sdfFile2d)\n",
    "            writer.write(mol)\n",
    "           #sdfFile2d.close()\n",
    "        ## save 3d sdf file\n",
    "            sdfFile3d = open('tmp/junk_' +str(y) + '_' +str(x) + '.sdf', 'w')\n",
    "            confIds = Chem.AllChem.EmbedMultipleConfs(mol, 1)\n",
    "            for confId in range(1):\n",
    "                Chem.AllChem.UFFOptimizeMolecule(mol, confId=confId)\n",
    "                writer = Chem.SDWriter(sdfFile3d)\n",
    "                writer.write(mol, confId=confId) \n",
    "                #sdfFile3d.close()\n",
    "            x += 1\n",
    "        else:\n",
    "            x += 0\n",
    "    y +=1\n",
    "    x = 0"
   ]
  },
  {
   "cell_type": "code",
   "execution_count": 8,
   "id": "338fb123",
   "metadata": {},
   "outputs": [],
   "source": [
    "## save fragments using number of atoms as a filter\n",
    "x = 0\n",
    "y = 0\n",
    "##  all_smiles is a list of list so, need to use a nested loop\n",
    "for i in all_smiles:\n",
    "    for smi in sorted(i):\n",
    "        mol = Chem.MolFromSmiles(smi)\n",
    "        natoms = mol.GetNumAtoms()\n",
    "        mol = Chem.AddHs(mol)\n",
    "        if natoms > 15:\n",
    "        ## save 2D sdf file\n",
    "            sdfFile2d = open('tmp/tmp_' +str(y) + '_' +str(x) + '.sdf', 'w')\n",
    "            writer = Chem.SDWriter(sdfFile2d)\n",
    "            writer.write(mol)\n",
    "            x += 1\n",
    "        else:\n",
    "            x += 0\n",
    "    y +=1\n",
    "    x = 0\n",
    "#    sdfFile2d.close()\n",
    "        #x += 1\n",
    "        \n",
    "        ## save 3D sdf file\n",
    "#        sdfFile3d = open('junk_brics.sdf', 'a')\n",
    "#        confIds = Chem.AllChem.EmbedMultipleConfs(mol, 1)\n",
    "#        for confId in range(1):\n",
    "#            Chem.AllChem.UFFOptimizeMolecule(mol, confId=confId)\n",
    "#            writer = Chem.SDWriter(sdfFile3d)\n",
    "#            writer.write(mol, confId=confId) \n",
    "#            sdfFile3d.close()"
   ]
  },
  {
   "cell_type": "code",
   "execution_count": null,
   "id": "a3ca6342",
   "metadata": {},
   "outputs": [],
   "source": []
  },
  {
   "cell_type": "code",
   "execution_count": null,
   "id": "d8853e88",
   "metadata": {},
   "outputs": [],
   "source": []
  }
 ],
 "metadata": {
  "kernelspec": {
   "display_name": "Python 3 (ipykernel)",
   "language": "python",
   "name": "python3"
  },
  "language_info": {
   "codemirror_mode": {
    "name": "ipython",
    "version": 3
   },
   "file_extension": ".py",
   "mimetype": "text/x-python",
   "name": "python",
   "nbconvert_exporter": "python",
   "pygments_lexer": "ipython3",
   "version": "3.11.6"
  }
 },
 "nbformat": 4,
 "nbformat_minor": 5
}
