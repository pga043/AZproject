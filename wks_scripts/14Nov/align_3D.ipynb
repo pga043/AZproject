{
 "cells": [
  {
   "cell_type": "code",
   "execution_count": 11,
   "id": "2d89aada",
   "metadata": {},
   "outputs": [],
   "source": [
    "import rdkit\n",
    "from rdkit import Chem\n",
    "from rdkit.Chem import AllChem\n",
    "from rdkit.Chem.Draw import IPythonConsole\n",
    "from IPython.display import display\n",
    "from rdkit.Chem import Draw\n"
   ]
  },
  {
   "cell_type": "code",
   "execution_count": 53,
   "id": "ff69562e",
   "metadata": {},
   "outputs": [
    {
     "data": {
      "text/plain": [
       "['[H]C1=C(c2c([H])n([H])c(=O)n([H])c2=O)C([H])([H])N(c2c([H])nc([H])c([H])c2[H])C(=O)[C@]1([H])c1c([H])c(F)c([H])c(OC([H])([H])[H])c1[H]']"
      ]
     },
     "metadata": {},
     "output_type": "display_data"
    },
    {
     "data": {
      "text/plain": [
       "['[H]c1nc(C([H])([H])Oc2c([H])c(Cl)c([H])c(-c3c([H])c(-c4c([H])n([H])c(=O)n([H])c4=O)c([H])n(-c4c([H])nc([H])c([H])c4[H])c3=O)c2[H])c(C([H])([H])[H])s1']"
      ]
     },
     "metadata": {},
     "output_type": "display_data"
    },
    {
     "data": {
      "text/plain": [
       "[<rdkit.Chem.rdchem.Mol at 0x7fb87ebd07b0>,\n",
       " <rdkit.Chem.rdchem.Mol at 0x7fb87ebd0970>]"
      ]
     },
     "metadata": {},
     "output_type": "display_data"
    }
   ],
   "source": [
    "tmp1 = Chem.SDMolSupplier('1-tmp/parent_1.sdf', removeHs=False)\n",
    "tmp2 = Chem.SDMolSupplier('1-tmp/parent_2.sdf', removeHs=False)\n",
    "\n",
    "mols = []\n",
    "sdfs = [tmp1, tmp2]\n",
    "for sdf in sdfs:\n",
    "    smi = [Chem.MolToSmiles(x) for x in sdf]\n",
    "    display(smi)\n",
    "    mols.append(smi[0])\n",
    "\n",
    "mol = [Chem.MolFromSmiles(x) for x in mols]\n"
   ]
  },
  {
   "cell_type": "code",
   "execution_count": 57,
   "id": "cb9f8778",
   "metadata": {},
   "outputs": [
    {
     "name": "stdout",
     "output_type": "stream",
     "text": [
      "29 31 [#6](-[#6]1:[#6]:[#7]:[#6](:[#7]:[#6]:1=[#8])=[#8])-,:[#6]-,:[#7](-[#6]1:[#6]:[#7]:[#6]:[#6]:[#6]:1)-,:[#6](=[#8])-,:[#6](-[#6]1:[#6]:[#6]:[#6]:[#6](:[#6]:1)-[#8]-[#6])-,:[#6]\n"
     ]
    }
   ],
   "source": [
    "from rdkit.Chem import rdFMCS\n",
    "\n",
    "mcs1 = rdFMCS.FindMCS(mol)\n",
    "\n",
    "print(mcs1.numAtoms,mcs1.numBonds,mcs1.smartsString)\n"
   ]
  },
  {
   "cell_type": "code",
   "execution_count": 68,
   "id": "52d90e21",
   "metadata": {},
   "outputs": [
    {
     "ename": "TypeError",
     "evalue": "No registered converter was able to produce a C++ rvalue of type std::__cxx11::basic_string<wchar_t, std::char_traits<wchar_t>, std::allocator<wchar_t> > from this Python object of type Mol",
     "output_type": "error",
     "traceback": [
      "\u001b[0;31m---------------------------------------------------------------------------\u001b[0m",
      "\u001b[0;31mTypeError\u001b[0m                                 Traceback (most recent call last)",
      "Cell \u001b[0;32mIn[68], line 3\u001b[0m\n\u001b[1;32m      1\u001b[0m \u001b[38;5;28;01mfrom\u001b[39;00m \u001b[38;5;21;01mrdkit\u001b[39;00m\u001b[38;5;21;01m.\u001b[39;00m\u001b[38;5;21;01mChem\u001b[39;00m \u001b[38;5;28;01mimport\u001b[39;00m rdMolAlign\n\u001b[0;32m----> 3\u001b[0m rdMolAlign\u001b[38;5;241m.\u001b[39mAlignMol(Chem\u001b[38;5;241m.\u001b[39mMolFromSmiles(mol[\u001b[38;5;241m1\u001b[39m]), Chem\u001b[38;5;241m.\u001b[39mMolFromSmiles(mol[\u001b[38;5;241m0\u001b[39m]), prbCid\u001b[38;5;241m=\u001b[39m\u001b[38;5;241m0\u001b[39m, refCid\u001b[38;5;241m=\u001b[39m\u001b[38;5;241m0\u001b[39m)\n",
      "\u001b[0;31mTypeError\u001b[0m: No registered converter was able to produce a C++ rvalue of type std::__cxx11::basic_string<wchar_t, std::char_traits<wchar_t>, std::allocator<wchar_t> > from this Python object of type Mol"
     ]
    }
   ],
   "source": [
    "from rdkit.Chem import rdMolAlign\n",
    "\n",
    "rdMolAlign.AlignMol(Chem.MolFromSmiles(mol[1]), Chem.MolFromSmiles(mol[0]), prbCid=0, refCid=0)\n"
   ]
  },
  {
   "cell_type": "code",
   "execution_count": 52,
   "id": "943ca0a4",
   "metadata": {},
   "outputs": [],
   "source": [
    "from rdkit.Chem import Recap,BRICS\n",
    "#for x in range(len(mols)):\n",
    "#    mol = [Chem.MolFromSmiles(y) for y in mols[x]]\n",
    "frags = list(Chem.BRICS.BRICSDecompose(Chem.MolFromSmiles(mols[0]), minFragmentSize=2, keepNonLeafNodes=True, returnMols=False))"
   ]
  },
  {
   "cell_type": "code",
   "execution_count": null,
   "id": "f26b8151",
   "metadata": {},
   "outputs": [],
   "source": []
  }
 ],
 "metadata": {
  "kernelspec": {
   "display_name": "Python 3 (ipykernel)",
   "language": "python",
   "name": "python3"
  },
  "language_info": {
   "codemirror_mode": {
    "name": "ipython",
    "version": 3
   },
   "file_extension": ".py",
   "mimetype": "text/x-python",
   "name": "python",
   "nbconvert_exporter": "python",
   "pygments_lexer": "ipython3",
   "version": "3.11.6"
  }
 },
 "nbformat": 4,
 "nbformat_minor": 5
}
