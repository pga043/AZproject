{
 "cells": [
  {
   "cell_type": "code",
   "execution_count": 1,
   "id": "56b0de9b",
   "metadata": {},
   "outputs": [],
   "source": [
    "import lomap\n",
    "import networkx as nx\n",
    "\n",
    "import os, sys, glob, subprocess\n",
    "import math\n",
    "import numpy as np\n",
    "import matplotlib.pyplot as plt\n",
    "\n",
    "import rdkit\n",
    "from rdkit import Chem\n",
    "from rdkit.Chem import AllChem\n",
    "from rdkit.Chem import Recap,BRICS\n",
    "from rdkit import DataStructs\n",
    "from rdkit import RDLogger\n",
    "from rdkit.Chem import rdMolAlign\n",
    "\n",
    "p = AllChem.ETKDGv2()\n",
    "p.verbose = False\n",
    "\n",
    "import openfe\n",
    "from openfe import SmallMoleculeComponent"
   ]
  },
  {
   "cell_type": "markdown",
   "id": "830b68aa",
   "metadata": {},
   "source": [
    "Limitations:\n",
    "1. Charged perturbations\n",
    "2. Fused ring breaking or size changing example systems(ERa,)\n",
    "3. "
   ]
  },
  {
   "cell_type": "code",
   "execution_count": 2,
   "id": "29bf1d6c",
   "metadata": {},
   "outputs": [],
   "source": [
    "## load all the sdf files and generate lomap network\n",
    "\n",
    "db_mol = lomap.DBMolecules(\".\", output=True, name='era')\n",
    "strict, loose = db_mol.build_matrices()\n",
    "nx_graph = db_mol.build_graph()"
   ]
  },
  {
   "cell_type": "code",
   "execution_count": 3,
   "id": "a48acf45",
   "metadata": {},
   "outputs": [
    {
     "name": "stdout",
     "output_type": "stream",
     "text": [
      "transformation: era_2d.sdf <--> era_2e.sdf\n"
     ]
    }
   ],
   "source": [
    "## get edges whose score is less than cutoff\n",
    "lomap_cutoff = 0.4\n",
    "\n",
    "for_frag = []\n",
    "for_frag.clear()\n",
    "for edge in nx_graph.edges(data=True):\n",
    "    score = nx_graph.edges[[edge[0], edge[1]]]['similarity']\n",
    "    if score > lomap_cutoff:\n",
    "        print('transformation: ' + str(nx_graph.nodes[edge[0]]['fname_comp']) + ' <--> ' + str(nx_graph.nodes[edge[1]]['fname_comp']))\n",
    "    else:\n",
    "        for_frag.append(nx_graph.nodes[edge[0]]['fname_comp'])\n",
    "        for_frag.append(nx_graph.nodes[edge[1]]['fname_comp'])\n",
    "        #print('Fragmentation required: ' + str(nx_graph.nodes[edge[0]]['fname_comp']) + ' <--> ' + str(nx_graph.nodes[edge[1]]['fname_comp']))\n"
   ]
  },
  {
   "cell_type": "code",
   "execution_count": 4,
   "id": "3a740159",
   "metadata": {},
   "outputs": [],
   "source": [
    "## generate a directory to store fragments:\n",
    "os.makedirs('frags', exist_ok=True)\n",
    "\n",
    "## get unique molecules from edges which have low lomap scores\n",
    "molecules = []\n",
    "molecules.clear()\n",
    "for m in range(len(list(set(for_frag)))):\n",
    "    tmp = Chem.SDMolSupplier(list(set(for_frag))[m], removeHs=False)\n",
    "    smi = Chem.MolToSmiles(tmp[0])\n",
    "    mol = Chem.MolFromSmiles(smi)\n",
    "    molecules.append(mol)"
   ]
  },
  {
   "cell_type": "code",
   "execution_count": 5,
   "id": "13036757",
   "metadata": {},
   "outputs": [],
   "source": [
    "## 2. ------------------------------------------\n",
    "# generate dummy atom\n",
    "du = Chem.MolFromSmiles('*')\n",
    "\n",
    "all_smiles = []\n",
    "all_smiles.clear()\n",
    "\n",
    "##************************\n",
    "## suppress rdkit warnings\n",
    "RDLogger.DisableLog('rdApp.*')\n",
    "##************************\n",
    "\n",
    "## fragmenting using BRICSDecompose\n",
    "for mol in molecules:\n",
    "    frags = list(Chem.BRICS.BRICSDecompose(mol, minFragmentSize=1, keepNonLeafNodes=True, returnMols=False))\n",
    "    ##if returnMols = False\n",
    "    mols = [Chem.MolFromSmiles(x) for x in frags]\n",
    "    ## replace dummy atoms with hydrogens\n",
    "    molh = [AllChem.ReplaceSubstructs(x,du,Chem.MolFromSmiles('[H]'), True)[0] for x in mols]\n",
    "    ## convert mols to smiles\n",
    "    all_smiles.append([Chem.MolToSmiles(x) for x in molh])\n",
    "\n",
    "\n",
    "##***************************\n",
    "## enable default rdkit warnings again\n",
    "RDLogger.EnableLog('rdApp.info')\n",
    "##****************************\n"
   ]
  },
  {
   "cell_type": "code",
   "execution_count": 6,
   "id": "d730c1ae",
   "metadata": {},
   "outputs": [],
   "source": [
    "## 3. -----------------------------------------------------\n",
    "\n",
    "## save fragments using similarity as a filter\n",
    "## tanimoto similarity cut-off  = 0.35\n",
    "## Dice threshold = 0.45\n",
    "## the cut-offs are somewhat arbitrary for now.\n",
    "x = 1\n",
    "y = 1\n",
    "\n",
    "fps = [] ## to filter duplicate fragments\n",
    "fps.clear()\n",
    "\n",
    "cutoff = 0.30\n",
    "##  all_smiles is a list of list so, need to use a nested loop\n",
    "for i in all_smiles:\n",
    "    ref   = molecules[all_smiles.index(i)] ## similarity wrt reference parent molecule\n",
    "    fp_r  = Chem.RDKFingerprint(ref)\n",
    "    #fps.append(fp_r)\n",
    "    for smi in i:\n",
    "        mol   = Chem.MolFromSmiles(smi)\n",
    "        query = mol\n",
    "        mol   = Chem.AddHs(mol)        \n",
    "        fp_q  = Chem.RDKFingerprint(query)\n",
    "        sim   = DataStructs.TanimotoSimilarity(fp_r,fp_q)\n",
    "        #print(f'similarity = {sim}, reference sdf index = {all_smiles.index(i)}')\n",
    "        #print('========')\n",
    "        if cutoff < round(sim,1) < 0.9: ## it means it's a fragment\n",
    "            ## check whether we have a similar fragment from another parent\n",
    "            frag_fps = []\n",
    "            frag_fps.clear()\n",
    "            for fp in range(len(fps)):\n",
    "                frag_fps.append(DataStructs.TanimotoSimilarity(fps[fp], fp_q))\n",
    "            if any(z==1 for z in frag_fps):\n",
    "                x+=0\n",
    "            else:\n",
    "                fps.append(fp_q)\n",
    "                ## save fragment molecules             \n",
    "                with Chem.SDWriter('frags/tmp_' + str(y) + '_' +str(x) + '.sdf') as writer:\n",
    "                    mol.SetProp('ID', 'tmp_' + str(y) + '_' + str(x))\n",
    "                    confIds = Chem.AllChem.EmbedMultipleConfs(mol, 1)\n",
    "                    for confId in range(1):\n",
    "                        Chem.AllChem.UFFOptimizeMolecule(mol, confId=confId)\n",
    "                        writer.write(mol, confId=confId)\n",
    "                        x += 1\n",
    "        else:\n",
    "            x += 0\n",
    "    y +=1\n",
    "    x = 1\n"
   ]
  },
  {
   "cell_type": "code",
   "execution_count": 7,
   "id": "03d6d414",
   "metadata": {},
   "outputs": [],
   "source": [
    "## generate and align 3D structures of the edges with good lomap scores\n",
    "\n",
    "##***************************************\n",
    "## open a reference sturcture upon which others will be aligned\n",
    "## preserving input coordinates (must be 3D structure data file)\n",
    "ref1 = Chem.SDMolSupplier('era_3b.sdf', removeHs=False)\n",
    "for ref in ref1:\n",
    "    #ref1_smi = Chem.MolToSmiles(ref)\n",
    "    #ref1_mol = Chem.MolFromSmiles(ref1_smi)\n",
    "    ref1_molh = ref #Chem.AddHs(ref1_mol)\n",
    "\n",
    "AllChem.EmbedMultipleConfs(ref1_molh, 1)\n",
    "\n",
    "## get MMFF parameters for the reference molecule\n",
    "mmff_ref_param = AllChem.MMFFGetMoleculeProperties(ref1_molh)\n",
    "ref_mol2 = ref1_molh\n",
    "##*************************************"
   ]
  },
  {
   "cell_type": "code",
   "execution_count": 26,
   "id": "a8f0c45e",
   "metadata": {},
   "outputs": [],
   "source": [
    "## RMSD function::\n",
    "\n",
    "'''\n",
    "https://github.com/DrrDom/rdkit-scripts/blob/master/rmsd_rdkit.py\n",
    "'''\n",
    "\n",
    "from rdkit.Chem import rdFMCS\n",
    "\n",
    "def get_coord(mol, indices=None):\n",
    "    if indices is None:\n",
    "        indices = tuple(range(mol.GetNumAtoms()))\n",
    "    output = []\n",
    "    for atom_id in indices:\n",
    "        pos = mol.GetConformer().GetAtomPosition(atom_id)\n",
    "        output.append((pos.x, pos.y, pos.z))\n",
    "    return tuple(output)\n",
    "\n",
    "\n",
    "\n",
    "def rmsd(mol, ref, chirality):\n",
    "\n",
    "    def rmsd_calc(r_coord, m_coord):\n",
    "        s = 0\n",
    "        for r, m in zip(r_coord, m_coord):\n",
    "            s += (r[0] - m[0]) ** 2 + (r[1] - m[1]) ** 2 + (r[2] - m[2]) ** 2\n",
    "        s = (s / len(r_coord)) ** 0.5\n",
    "        return s\n",
    "\n",
    "    match_indices = mol.GetSubstructMatches(ref, uniquify=False, useChirality=chirality, maxMatches=10000)\n",
    "    min_rmsd = float('inf')\n",
    "    if not match_indices:\n",
    "        mcs = rdFMCS.FindMCS([mol, ref], threshold=1.0,\n",
    "                             ringMatchesRingOnly=False, completeRingsOnly=False,\n",
    "                             matchChiralTag=chirality)\n",
    "        if not mcs:\n",
    "            return None\n",
    "        patt = Chem.MolFromSmarts(mcs.smartsString)\n",
    "        refMatch, molMatch = ref.GetSubstructMatches(patt, uniquify=False), \\\n",
    "                             mol.GetSubstructMatches(patt, uniquify=False)\n",
    "\n",
    "        for ids_ref in refMatch:\n",
    "            for ids_mol in molMatch:\n",
    "                ref_coord = get_coord(ref, ids_ref)\n",
    "                mol_coord = get_coord(mol, ids_mol)\n",
    "                s = rmsd_calc(ref_coord, mol_coord)\n",
    "                if s < min_rmsd:\n",
    "                    min_rmsd = s\n",
    "    else:\n",
    "        ref_coord = get_coord(ref)\n",
    "        for ids in match_indices:\n",
    "            mol_coord = get_coord(mol, ids)\n",
    "            s = rmsd_calc(ref_coord, mol_coord)\n",
    "            if s < min_rmsd:\n",
    "                min_rmsd = s\n",
    "\n",
    "    return round(min_rmsd, 3)"
   ]
  },
  {
   "cell_type": "code",
   "execution_count": 35,
   "id": "46dfaae4",
   "metadata": {},
   "outputs": [
    {
     "name": "stdout",
     "output_type": "stream",
     "text": [
      "transformation: era_2d.sdf <--> era_2e.sdf\n",
      "Generating 100 conformers for each molecule\n",
      "Performing alignment and saving the conformer with best score only.\n",
      "rmsd: [0.25506281648689405, 0.17605480022634418]\n",
      "pyO3A_score: [167.51714108508887, 161.08395010882523]\n",
      "===================================\n",
      "Finished LOMAP edges. Next step OpenFE\n"
     ]
    }
   ],
   "source": [
    "## LOMAP edges ====>>\n",
    "os.makedirs('fromLomap', exist_ok=True)\n",
    "\n",
    "for edge in nx_graph.edges(data=True):\n",
    "    score = nx_graph.edges[[edge[0], edge[1]]]['similarity']\n",
    "    if score > lomap_cutoff:\n",
    "        print('transformation: ' + str(nx_graph.nodes[edge[0]]['fname_comp']) + ' <--> ' + str(nx_graph.nodes[edge[1]]['fname_comp']))\n",
    "        \n",
    "        mol1 = Chem.SDMolSupplier(str(nx_graph.nodes[edge[0]]['fname_comp']), removeHs=False)\n",
    "        mol2 = Chem.SDMolSupplier(str(nx_graph.nodes[edge[1]]['fname_comp']), removeHs=False)\n",
    "        \n",
    "        sdfs = [mol1, mol2]\n",
    "        molecules = []\n",
    "        molecules.clear()\n",
    "        for sdf in sdfs:\n",
    "            smi = [Chem.MolToSmiles(x) for x in sdf]\n",
    "            mol = [Chem.MolFromSmiles(x) for x in smi]\n",
    "            molecules.append(Chem.AddHs(mol[0]))\n",
    "\n",
    "        confs = 100 ## number of conformers to generate\n",
    "        print(f'Generating {confs} conformers for each molecule')\n",
    "        for mol in molecules[0:]:\n",
    "            AllChem.EmbedMultipleConfs(mol, confs, p)\n",
    "\n",
    "        ## get MMFF parameters for each molecule\n",
    "        mmff_params = [AllChem.MMFFGetMoleculeProperties(mol) for mol in molecules]\n",
    "        #mmff_ref_param = mmff_params[0]\n",
    "        mmff_prob_params = mmff_params[0:]\n",
    "        #ref_mol2 = molecules[0]\n",
    "        prob_mols_2 = molecules[0:]\n",
    "\n",
    "\n",
    "        ## perform alignment and save the best scored conformer\n",
    "        print('Performing alignment and saving the conformer with best score only.')\n",
    "\n",
    "        with Chem.SDWriter('fromLomap/' +str(nx_graph.nodes[edge[0]]['fname_comp']) +'_' + str(nx_graph.nodes[edge[1]]['fname_comp'])) as writer:\n",
    "             #writer.write(ref_mol2)\n",
    "            pyO3A_score = []\n",
    "            rmsd = []\n",
    "            for idx, mol in enumerate(prob_mols_2):\n",
    "                tempscore = []\n",
    "                temprmsd = []\n",
    "                for cid in range(confs):\n",
    "                    pyO3A = rdMolAlign.GetO3A(mol, ref_mol2, mmff_prob_params[idx], mmff_ref_param, cid, 0)\n",
    "                    temprmsd.append(pyO3A.Align())\n",
    "                    tempscore.append(pyO3A.Score())\n",
    "                best = np.argmax(tempscore)\n",
    "                rmsd.append(temprmsd[best])\n",
    "                ## save sdf file\n",
    "                ## write names, to be used with network in openFE\n",
    "                mol.SetProp('_Name', str(nx_graph.nodes[edge[prob_mols_2.index(mol)]]['fname_comp']))\n",
    "                mol.SetProp('ID', str(int(best)))\n",
    "                writer.write(mol, confId=int(best))\n",
    "                pyO3A_score.append(tempscore[best])\n",
    "                \n",
    "                #print(rmsd(mol, ref_mol2, True))\n",
    "        print(f'rmsd: {rmsd}')  \n",
    "        print('pyO3A_score: ' + str(pyO3A_score))\n",
    "        print('===================================')\n",
    "\n",
    "print('Finished LOMAP edges. Next step OpenFE')"
   ]
  },
  {
   "cell_type": "code",
   "execution_count": 9,
   "id": "7dfb0aba",
   "metadata": {},
   "outputs": [
    {
     "name": "stdout",
     "output_type": "stream",
     "text": [
      "poor edge: era_2d.sdf <--> era_3b.sdf\n",
      "poor edge: era_2e.sdf <--> era_3b.sdf\n",
      "['era_2d.sdf', 'era_3b.sdf', 'era_2e.sdf', 'tmp_1_1.sdf', 'tmp_2_1.sdf', 'tmp_2_2.sdf', 'tmp_3_1.sdf']\n",
      "------------------------------\n",
      "Generating 100 conformers for each molecule\n",
      "Performing alignment and saving the conformer with best score only.\n",
      "writing sdf file: era_2d.sdf\n",
      "writing sdf file: era_3b.sdf\n",
      "writing sdf file: era_2e.sdf\n",
      "writing sdf file: tmp_1_1.sdf\n",
      "writing sdf file: tmp_2_1.sdf\n",
      "writing sdf file: tmp_2_2.sdf\n",
      "writing sdf file: tmp_3_1.sdf\n",
      "Finished with aligned file, go to OpenFE for network generation.\n"
     ]
    }
   ],
   "source": [
    "## openFE requires 3D sdf files and also they need to be aligned\n",
    "## align fragments and their parent molecules to the same reference and save one sdf file\n",
    "\n",
    "os.makedirs('forOpenfe', exist_ok=True)\n",
    "\n",
    "file_names = []\n",
    "sdfs = []\n",
    "sdfs.clear()\n",
    "for edge in nx_graph.edges(data=True):\n",
    "    score = nx_graph.edges[[edge[0], edge[1]]]['similarity']\n",
    "    if score < lomap_cutoff:\n",
    "        print('poor edge: ' + str(nx_graph.nodes[edge[0]]['fname_comp']) + ' <--> ' + str(nx_graph.nodes[edge[1]]['fname_comp']))\n",
    "        \n",
    "        for i in range(2):  ## the length of an edge is 2.\n",
    "            if str(nx_graph.nodes[edge[i]]['fname_comp']) not in file_names[0:]:\n",
    "                file_names.append(str(nx_graph.nodes[edge[i]]['fname_comp']))\n",
    "                sdfs.append(Chem.SDMolSupplier(str(nx_graph.nodes[edge[i]]['fname_comp']), removeHs=False))\n",
    "\n",
    "\n",
    "for f in glob.glob(\"frags/*.sdf\"):\n",
    "    sdf = Chem.SDMolSupplier(f, removeHs=False)\n",
    "    sdfs.append(sdf)\n",
    "    file_names.append(str(f[6:]))\n",
    "\n",
    "print(file_names)\n",
    "print(f'------------------------------')\n",
    "\n",
    "molecules = []\n",
    "molecules.clear()\n",
    "for sdf in sdfs:\n",
    "    smi = [Chem.MolToSmiles(x) for x in sdf]\n",
    "    mol = [Chem.MolFromSmiles(x) for x in smi]\n",
    "    molecules.append(Chem.AddHs(mol[0]))\n",
    "\n",
    "confs = 100 ## number of conformers to generate\n",
    "print(f'Generating {confs} conformers for each molecule')\n",
    "for mol in molecules[0:]:\n",
    "    AllChem.EmbedMultipleConfs(mol, confs, p)\n",
    "\n",
    "## get MMFF parameters for each molecule\n",
    "mmff_params = [AllChem.MMFFGetMoleculeProperties(mol) for mol in molecules]\n",
    "#mmff_ref_param = mmff_params[0]\n",
    "mmff_prob_params = mmff_params[0:]\n",
    "#ref_mol2 = molecules[0]\n",
    "prob_mols_2 = molecules[0:]\n",
    "\n",
    "\n",
    "## perform alignment and save the best scored conformer\n",
    "print('Performing alignment and saving the conformer with best score only.')\n",
    "\n",
    "#with Chem.SDWriter(f'forOpenfe/.sdf') as writer:\n",
    "    #writer.write(ref_mol2)\n",
    "\n",
    "pyO3A_score = []\n",
    "for idx, mol in enumerate(prob_mols_2):   \n",
    "    tempscore = []\n",
    "    for cid in range(confs):\n",
    "        pyO3A = rdMolAlign.GetO3A(mol, ref_mol2, mmff_prob_params[idx], mmff_ref_param, cid, 0)\n",
    "        pyO3A.Align()\n",
    "        tempscore.append(pyO3A.Score())\n",
    "    best = np.argmax(tempscore)\n",
    "    ## save sdf file\n",
    "    print(f'writing sdf file: {file_names[prob_mols_2.index(mol)]}')\n",
    "    with Chem.SDWriter(f'forOpenfe/{file_names[prob_mols_2.index(mol)]}') as writer:\n",
    "        ## write names, to be used with network in openFE\n",
    "        mol.SetProp('_Name', str(file_names[prob_mols_2.index(mol)]))\n",
    "        mol.SetProp('ID', str(int(best)))\n",
    "        writer.write(mol, confId=int(best))\n",
    "    \n",
    "    pyO3A_score.append(tempscore[best])\n",
    "    #print('pyO3A_score: ' + str(pyO3A_score))\n",
    "\n",
    "print('Finished with aligned file, go to OpenFE for network generation.')\n",
    "        "
   ]
  },
  {
   "cell_type": "code",
   "execution_count": 10,
   "id": "ab31d178",
   "metadata": {},
   "outputs": [],
   "source": [
    "## openFE maximal_netwok\n",
    "\n",
    "sdfs = []\n",
    "for f in glob.glob('forOpenfe/*.sdf'):\n",
    "    sdf = Chem.SDMolSupplier(f, removeHs=False)\n",
    "    sdfs.append(sdf[0])\n",
    "\n",
    "ligands = [SmallMoleculeComponent(sdf) for sdf in sdfs]\n",
    "\n",
    "mapper = openfe.LomapAtomMapper(max3d=100.0, element_change=True)\n",
    "scorer = openfe.lomap_scorers.default_lomap_score\n",
    "network_planner = openfe.ligand_network_planning.generate_maximal_network\n"
   ]
  },
  {
   "cell_type": "code",
   "execution_count": 11,
   "id": "8ea7c5b8",
   "metadata": {},
   "outputs": [],
   "source": [
    "ligand_network = network_planner(\n",
    "ligands=ligands[0:],\n",
    "     mappers=[mapper],\n",
    "     scorer=scorer\n",
    ")"
   ]
  },
  {
   "cell_type": "code",
   "execution_count": 16,
   "id": "29980dc6",
   "metadata": {},
   "outputs": [],
   "source": [
    "G = nx.Graph()\n",
    "\n",
    "## low lomap score ==> considered as good edge weight by networkx or netowrkx edges are closer\n",
    "## high lomap score ==> considered as bad edge weight by networkx or networkx edges are further \n",
    "\n",
    "for edge in ligand_network.edges:\n",
    "    try:\n",
    "        G.add_edge(edge.componentA.name, edge.componentB.name, weight=round(-math.log(edge.annotations['score']), 4), lomap_score=round(edge.annotations['score'], 4))\n",
    "    except ValueError: ## if the edge score is zero, assign a high score (here randomly I chose 5)\n",
    "        G.add_edge(edge.componentA.name, edge.componentB.name, weight=5, lomap_score=round(edge.annotations['score'], 4))"
   ]
  },
  {
   "cell_type": "code",
   "execution_count": 13,
   "id": "088b2379",
   "metadata": {
    "scrolled": true
   },
   "outputs": [
    {
     "data": {
      "image/png": "[encoded data removed]",
      "text/plain": [
       "<Figure size 640x480 with 1 Axes>"
      ]
     },
     "metadata": {},
     "output_type": "display_data"
    }
   ],
   "source": [
    "## plotting ------------------\n",
    "\n",
    "pos = nx.spring_layout(G, seed=7)  # positions for all nodes - seed for reproducibility\n",
    "\n",
    "## nodes\n",
    "nx.draw_networkx_nodes(G, pos, node_size=200)\n",
    "\n",
    "## edges\n",
    "nx.draw_networkx_edges(G, pos, edgelist=G.edges(), width=1)\n",
    "\n",
    "## node labels\n",
    "nx.draw_networkx_labels(G, pos, font_size=10, font_family=\"sans-serif\")\n",
    "\n",
    "## edge weight labels\n",
    "edge_labels = nx.get_edge_attributes(G, \"weight\")\n",
    "#nx.draw_networkx_edge_labels(G, pos, edge_labels)\n",
    "\n",
    "ax = plt.gca()\n",
    "ax.margins(0.08)\n",
    "plt.axis(\"off\")\n",
    "plt.tight_layout()\n",
    "plt.show()"
   ]
  },
  {
   "cell_type": "code",
   "execution_count": 14,
   "id": "9b7a6b0d",
   "metadata": {},
   "outputs": [],
   "source": [
    "parents = []\n",
    "parents.clear()\n",
    "for node in G.nodes():\n",
    "    if node[0:3] != 'tmp':\n",
    "        parents.append(node)"
   ]
  },
  {
   "cell_type": "code",
   "execution_count": 15,
   "id": "03e07c44",
   "metadata": {},
   "outputs": [
    {
     "name": "stdout",
     "output_type": "stream",
     "text": [
      "era_2d.sdf, era_3b.sdf, score: 0.5447, Graph with 4 nodes and 3 edges\n",
      "era_2d.sdf <--> tmp_3_1.sdf => LOMAP score 0.3679\n",
      "tmp_3_1.sdf <--> tmp_1_1.sdf => LOMAP score 0.0407 **poor edge**\n",
      "tmp_1_1.sdf <--> era_3b.sdf => LOMAP score 0.4966\n",
      "===================\n",
      "era_2e.sdf, era_3b.sdf, score: 0.5114, Graph with 4 nodes and 3 edges\n",
      "era_2e.sdf <--> tmp_2_2.sdf => LOMAP score 0.4493\n",
      "tmp_2_2.sdf <--> tmp_1_1.sdf => LOMAP score 0.0449 **poor edge**\n",
      "tmp_1_1.sdf <--> era_3b.sdf => LOMAP score 0.4966\n",
      "===================\n"
     ]
    }
   ],
   "source": [
    "for edge in nx_graph.edges(data=True): ## from lomap network get poor edges\n",
    "    score = nx_graph.edges[[edge[0], edge[1]]]['similarity']\n",
    "    if score < lomap_cutoff:\n",
    "        source = nx_graph.nodes[edge[0]]['fname_comp']\n",
    "        target = nx_graph.nodes[edge[1]]['fname_comp']\n",
    "        \n",
    "        all_paths = list(nx.all_simple_paths(G, source=source, target=target, cutoff=3))\n",
    "        \n",
    "        score = []\n",
    "        score.clear()\n",
    "        final_path = []\n",
    "        final_path.clear()\n",
    "        for path in range(len(all_paths)):\n",
    "            #print(all_paths[path])\n",
    "            pathGraph = nx.path_graph(all_paths[path])\n",
    "            final_path.append(pathGraph)\n",
    "            weights = []\n",
    "            weights.clear()\n",
    "            for ea in pathGraph.edges():\n",
    "                weights.append(G.edges[ea[0], ea[1]]['weight'])\n",
    "            \n",
    "            score.append(round(sum(weights) / pathGraph.number_of_edges()**2, 4))\n",
    "            #print('final score: ' + str(round(sum(weights) / pathGraph.number_of_edges(), 4)))\n",
    "\n",
    "        print(f'{source}, {target}, score: {min(score)}, {final_path[score.index(min(score))]}')\n",
    "        \n",
    "        for ea in final_path[score.index(min(score))].edges(data=True):\n",
    "            if G.edges[ea[0], ea[1]]['lomap_score'] < 0.2:\n",
    "                print(ea[0], '<-->', ea[1], '=> LOMAP score', G.edges[ea[0], ea[1]]['lomap_score'], '**poor edge**')\n",
    "            else:\n",
    "                print(ea[0], '<-->', ea[1], '=> LOMAP score', G.edges[ea[0], ea[1]]['lomap_score'])\n",
    "            #file_write = 'cat forOpenfe/' + str(ea[0]) + ' forOpenfe/' + str(ea[1]) + ' > ' + str(ea[0]) + '_' + str(ea[1])\n",
    "            #subprocess.check_call(file_write, shell=True)\n",
    "        print('===================')\n",
    "            "
   ]
  },
  {
   "cell_type": "code",
   "execution_count": 43,
   "id": "76357018",
   "metadata": {},
   "outputs": [],
   "source": [
    "##------------Finished------------------------##\n",
    "##------------old-trials----------------------##"
   ]
  },
  {
   "cell_type": "code",
   "execution_count": null,
   "id": "21a85f2a",
   "metadata": {},
   "outputs": [],
   "source": [
    "all_paths = list(nx.all_simple_paths(G, source=parents[3], target=parents[0], cutoff=3))\n",
    "#all_paths"
   ]
  },
  {
   "cell_type": "code",
   "execution_count": 44,
   "id": "4be8a4b9",
   "metadata": {},
   "outputs": [],
   "source": [
    "#nx.shortest_path(G, source=parents[0], target=parents[1])"
   ]
  },
  {
   "cell_type": "code",
   "execution_count": 55,
   "id": "9475962f",
   "metadata": {},
   "outputs": [
    {
     "name": "stdout",
     "output_type": "stream",
     "text": [
      "0.3667, Graph with 4 nodes and 3 edges\n"
     ]
    }
   ],
   "source": [
    "score = []\n",
    "score.clear()\n",
    "final_path = []\n",
    "final_path.clear()\n",
    "for path in range(len(all_paths)):\n",
    "    #print(all_paths[path])\n",
    "    pathGraph = nx.path_graph(all_paths[path])\n",
    "    final_path.append(pathGraph)\n",
    "    weights = []\n",
    "    weights.clear()\n",
    "    for ea in pathGraph.edges():\n",
    "        weights.append(G.edges[ea[0], ea[1]]['weight'])\n",
    "    score.append(round(sum(weights) / pathGraph.number_of_edges()**2, 4))\n",
    "    #print('final score: ' + str(round(sum(weights) / pathGraph.number_of_edges(), 4)))\n",
    "\n",
    "#score.index(min(score))\n",
    "print(f'{min(score)}, {final_path[score.index(min(score))]}')"
   ]
  },
  {
   "cell_type": "code",
   "execution_count": 56,
   "id": "1a69be84",
   "metadata": {},
   "outputs": [
    {
     "data": {
      "text/plain": [
       "EdgeDataView([('mol_1a.sdf', 'tmp_1_1.sdf', {}), ('tmp_1_1.sdf', 'tmp_2_1.sdf', {}), ('tmp_2_1.sdf', 'mol_4a.sdf', {})])"
      ]
     },
     "execution_count": 56,
     "metadata": {},
     "output_type": "execute_result"
    }
   ],
   "source": [
    "final_path[score.index(min(score))].edges(data=True)"
   ]
  },
  {
   "cell_type": "code",
   "execution_count": 57,
   "id": "affdd4b9",
   "metadata": {},
   "outputs": [
    {
     "name": "stdout",
     "output_type": "stream",
     "text": [
      "mol_1a.sdf tmp_1_1.sdf 0.4066\n",
      "tmp_1_1.sdf tmp_2_1.sdf 0.2231\n",
      "tmp_2_1.sdf mol_4a.sdf 0.4066\n"
     ]
    }
   ],
   "source": [
    "for ea in final_path[score.index(min(score))].edges(data=True):\n",
    "    print(ea[0], ea[1], G.edges[ea[0], ea[1]]['lomap_score'])\n",
    "    file_write = 'cat forOpenfe/' + str(ea[0]) + ' forOpenfe/' + str(ea[1]) + ' > ' + str(ea[0]) + '_' + str(ea[1])\n",
    "    subprocess.check_call(file_write, shell=True)\n",
    "    "
   ]
  },
  {
   "cell_type": "code",
   "execution_count": null,
   "id": "e3116826",
   "metadata": {},
   "outputs": [],
   "source": []
  }
 ],
 "metadata": {
  "kernelspec": {
   "display_name": "Python 3 (ipykernel)",
   "language": "python",
   "name": "python3"
  },
  "language_info": {
   "codemirror_mode": {
    "name": "ipython",
    "version": 3
   },
   "file_extension": ".py",
   "mimetype": "text/x-python",
   "name": "python",
   "nbconvert_exporter": "python",
   "pygments_lexer": "ipython3",
   "version": "3.11.6"
  }
 },
 "nbformat": 4,
 "nbformat_minor": 5
}
